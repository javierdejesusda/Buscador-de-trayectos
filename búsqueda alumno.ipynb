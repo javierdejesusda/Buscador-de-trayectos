{
 "cells": [
  {
   "cell_type": "markdown",
   "metadata": {},
   "source": [
    "## Notebook de Exploración en Espacios de Estados\n",
    "\n",
    "Se implementará un notebook con las siguientes funcionalidades:\n",
    "\n",
    "  * Una función expansión, que será utilizada por todos los algoritmos\n",
    "  * Una función por cada algoritmo de búsqueda: profundidad, amplitud, escalada, primero el mejor, branch & bound y A*\n",
    "  * Las funciones deberán recibir como argumento otras funciones que permitan su uso para cualquier problema. Estas funciones dependientes del problema son:\n",
    "    * sucesores(estado)\n",
    "    * heuristico(estado, objetivo)\n",
    "    * coste(camino)\n",
    "\n",
    "Utilizar las funciones desarrolladas para\n",
    "  * Encontrar el trayecto más corto entre dos estaciones del metro de Madrid\n",
    "  * El problema de las vasijas\n",
    "  * El 8-puzzle (opcional)\n",
    "\n",
    "Ampliaciones opcionales:\n",
    "  * Desarrollar una clase busqueda que incluya todos los métodos\n",
    "  * Implementar otros problemas.\n",
    "\n",
    "El profesor suministrará un esqueleto de notebook con algunas funciones implementadas.\n",
    "\n",
    "**Importante**: para la coevaluación, sólo un miembro del grupo sube la práctica, aunque en el nombre del notebook debe aparecer el nombre de los dos.\n",
    "\n"
   ]
  },
  {
   "cell_type": "markdown",
   "metadata": {},
   "source": [
    "#### Funciones auxiliares"
   ]
  },
  {
   "cell_type": "code",
   "execution_count": 2,
   "metadata": {
    "tags": []
   },
   "outputs": [],
   "source": [
    "def trace (msg): # auxiliar para escribir trazas por pantalla\n",
    "\tprint(msg, end='\\r', flush=True)"
   ]
  },
  {
   "cell_type": "markdown",
   "metadata": {},
   "source": [
    "### Algunas cosas de python que necesitamos recordar"
   ]
  },
  {
   "cell_type": "code",
   "execution_count": 3,
   "metadata": {},
   "outputs": [
    {
     "data": {
      "text/plain": [
       "('b', 'c')"
      ]
     },
     "execution_count": 3,
     "metadata": {},
     "output_type": "execute_result"
    }
   ],
   "source": [
    "# una buena manera de representar grafos son los diccionarios\n",
    "grafo = {} # inicializa un diccionario vacío\n",
    "grafo['a'] = ('b', 'c') # asocia la tupla ('b', 'c') a la clave 'a'\n",
    "grafo['a'] # obtiene el valor asociado a la clave 'a'"
   ]
  },
  {
   "cell_type": "code",
   "execution_count": 4,
   "metadata": {},
   "outputs": [
    {
     "name": "stdout",
     "output_type": "stream",
     "text": [
      "sí está\n"
     ]
    }
   ],
   "source": [
    "# para saber si un elemento está  en una lista\n",
    "l = [1, 2, 3]\n",
    "if 1 in l:\n",
    "    print('sí está')\n",
    "\n",
    "if 4 in l:\n",
    "    print('sí está')"
   ]
  },
  {
   "cell_type": "code",
   "execution_count": 5,
   "metadata": {},
   "outputs": [
    {
     "data": {
      "text/plain": [
       "3"
      ]
     },
     "execution_count": 5,
     "metadata": {},
     "output_type": "execute_result"
    }
   ],
   "source": [
    "# para acceder al último elemento de una lista hay un \"truco\"\n",
    "l[-1]"
   ]
  },
  {
   "cell_type": "code",
   "execution_count": 6,
   "metadata": {},
   "outputs": [
    {
     "data": {
      "text/plain": [
       "[1, 2, 3, 4]"
      ]
     },
     "execution_count": 6,
     "metadata": {},
     "output_type": "execute_result"
    }
   ],
   "source": [
    "# para añadir un elemento al final de una lista (ojo, es destructiva, es decir, modifica la lista original)\n",
    "l.append(4)\n",
    "l"
   ]
  },
  {
   "cell_type": "code",
   "execution_count": 7,
   "metadata": {},
   "outputs": [
    {
     "name": "stdout",
     "output_type": "stream",
     "text": [
      "[4, 5, 6, 1, 2, 3, 4]\n",
      "[1, 2, 3, 4]\n",
      "[4, 5, 6, 7]\n"
     ]
    }
   ],
   "source": [
    "# para concatenar dos listas (no modifica la lista original)\n",
    "l2 = [4, 5, 6] + l\n",
    "print(l2)\n",
    "print(l)\n",
    "\n",
    "l2 = [4,5,6] + [7]\n",
    "print(l2)"
   ]
  },
  {
   "cell_type": "code",
   "execution_count": 8,
   "metadata": {},
   "outputs": [
    {
     "data": {
      "text/plain": [
       "[4, 5, 6, 1, 2, 3, 4]"
      ]
     },
     "execution_count": 8,
     "metadata": {},
     "output_type": "execute_result"
    }
   ],
   "source": [
    "# concatenación destructiva (destruye la lista original, pero es más eficiente)\n",
    "l2 = [4, 5, 6]\n",
    "l2.extend(l)\n",
    "l2"
   ]
  },
  {
   "cell_type": "code",
   "execution_count": 9,
   "metadata": {},
   "outputs": [
    {
     "data": {
      "text/plain": [
       "[2, 3, 4]"
      ]
     },
     "execution_count": 9,
     "metadata": {},
     "output_type": "execute_result"
    }
   ],
   "source": [
    "# slicing de listas\n",
    "l = [1, 2, 3, 4]\n",
    "l[1:] # lista sin el primer elemento\n"
   ]
  },
  {
   "cell_type": "code",
   "execution_count": 10,
   "metadata": {},
   "outputs": [
    {
     "data": {
      "text/plain": [
       "[2, 3, 4]"
      ]
     },
     "execution_count": 10,
     "metadata": {},
     "output_type": "execute_result"
    }
   ],
   "source": [
    "# equivalente destructivo: pop\n",
    "l.pop(0) # suprime el primer elemento (modifica la lista)\n",
    "l"
   ]
  },
  {
   "cell_type": "code",
   "execution_count": 11,
   "metadata": {},
   "outputs": [
    {
     "name": "stdout",
     "output_type": "stream",
     "text": [
      "[0, 1, 2, 3, 4, 5, 6, 7, 8]\n",
      "[('d', 0), ('b', 1), ('a', 3), ('c', 6)]\n",
      "[('d', 0), ('b', 1), ('a', 3), ('c', 6)]\n"
     ]
    }
   ],
   "source": [
    "# sorted\n",
    "\n",
    "l = [1, 4, 3, 2, 0, 8, 7, 5, 6]\n",
    "\n",
    "l_ordenada = sorted(l)\n",
    "\n",
    "print(l_ordenada)\n",
    "\n",
    "l = [('a', 3), ('b', 1), ('d', 0), ('c', 6)]\n",
    "\n",
    "def s2 (a):\n",
    "    return a[1]\n",
    "\n",
    "print(sorted(l, key=s2)) # key indica cómo acceder al item por el que se quiere ordenar dentro de una estructura compleja\n",
    "\n",
    "print(sorted(l, key=lambda x: x[1]))"
   ]
  },
  {
   "cell_type": "code",
   "execution_count": 12,
   "metadata": {},
   "outputs": [
    {
     "name": "stdout",
     "output_type": "stream",
     "text": [
      "[1, 4, 9, 16]\n"
     ]
    }
   ],
   "source": [
    "# Paso de funciones como argumento (Higher Order Functions)\n",
    "# Sirven para \"inyectar dependencias\", es decir, para dejar parte del código sin implementar \n",
    "# y permitir que la implementación se pase más adelante a nuestro código\n",
    "# Ejemeplo: imaginemos que queremos elevar todos los elementos de una lista al cuadrado\n",
    "\n",
    "def todos_al_cuadrado (l):\n",
    "    res = []\n",
    "    for e in l:\n",
    "        res.append(e**2)\n",
    "    return res\n",
    "\n",
    "l = [1,2,3,4]\n",
    "l2 = todos_al_cuadrado(l)\n",
    "print(l2)\n"
   ]
  },
  {
   "cell_type": "code",
   "execution_count": 13,
   "metadata": {},
   "outputs": [
    {
     "name": "stdout",
     "output_type": "stream",
     "text": [
      "[1, 8, 27, 64]\n",
      "[-4, -3, -2, -1]\n"
     ]
    }
   ],
   "source": [
    "# pero, ¿y si quiero elevarlos al cubo? ¿Me tengo que hacer otra función?\n",
    "# ¿Por qué no abstraer la operación a aplcar?\n",
    "\n",
    "def aplica_a_todos (operacion, l):\n",
    "    res = []\n",
    "    for e in l:\n",
    "        res.append(operacion(e))\n",
    "    return res\n",
    "\n",
    "l3 = aplica_a_todos(lambda x: x**3, l)\n",
    "print(l3)\n",
    "\n",
    "l3 = aplica_a_todos(lambda x: x-5, l)\n",
    "print(l3)"
   ]
  },
  {
   "cell_type": "code",
   "execution_count": 14,
   "metadata": {},
   "outputs": [
    {
     "name": "stdout",
     "output_type": "stream",
     "text": [
      "[1, 8, 27, 64]\n"
     ]
    }
   ],
   "source": [
    "# esta función existe ya en python y se llama map\n",
    "\n",
    "l4 = list(map(lambda x: x**3, l))\n",
    "print(l4)"
   ]
  },
  {
   "cell_type": "markdown",
   "metadata": {},
   "source": [
    "### Grafo de ejemplo de las diapositivas de clase"
   ]
  },
  {
   "cell_type": "code",
   "execution_count": 15,
   "metadata": {},
   "outputs": [],
   "source": [
    "# Grafo ejemplo de las diapositivas\n",
    "\n",
    "# usaremos diccionarios\n",
    "\n",
    "grafo = {}\n",
    "\n",
    "grafo['a'] = ('b', 'c')\n",
    "grafo['b'] = ('a', 'h')\n",
    "grafo['c'] = ('a', 'd', 'e')\n",
    "grafo['d'] = ('c', 'e', 'g')\n",
    "grafo['e'] = ('c', 'd', 'f')\n",
    "grafo['f'] = ('e')\n",
    "grafo['g'] = ('d')\n",
    "grafo['h'] = ('b')"
   ]
  },
  {
   "cell_type": "code",
   "execution_count": 16,
   "metadata": {},
   "outputs": [],
   "source": [
    "def sucesores_grafo(nodo):\n",
    "    return grafo[nodo]"
   ]
  },
  {
   "cell_type": "markdown",
   "metadata": {},
   "source": [
    "### Expansión de caminos\n",
    "\n",
    "Dado un camino, obtiene los sucesores del último nodo y crea un camino nuevo por cada uno de ellos, siempre que el camino resultante no se cíclico."
   ]
  },
  {
   "cell_type": "code",
   "execution_count": 17,
   "metadata": {},
   "outputs": [
    {
     "data": {
      "text/plain": [
       "[['a', 'c', 'd'], ['a', 'c', 'e']]"
      ]
     },
     "execution_count": 17,
     "metadata": {},
     "output_type": "execute_result"
    }
   ],
   "source": [
    "def expandir(camino, sucesores):\n",
    "    nuevo = []\n",
    "    final = camino[-1]\n",
    "    for nodo in sucesores(final):\n",
    "        if nodo not in camino:    \n",
    "            nuevo.append(camino + [nodo])    \n",
    "    \n",
    "    return nuevo\n",
    "  \n",
    "expandir(['a'], sucesores_grafo)\n",
    "# debe dar [['a','b'], ['a','c']\n",
    "\n",
    "expandir(['a','c'], sucesores_grafo)\n",
    "# debe dar [['a','c','d'], ['a','c','e']]"
   ]
  },
  {
   "cell_type": "markdown",
   "metadata": {},
   "source": [
    "### Algoritmos no informados"
   ]
  },
  {
   "cell_type": "code",
   "execution_count": 49,
   "metadata": {},
   "outputs": [],
   "source": [
    "def profundidad(n0, nf, sucesores):\n",
    "    '''n0 -> estado inicial\n",
    "    nf -> estado final\n",
    "    sucesores -> función que permite obtener los sucesores de un nodo\n",
    "    La función debe devolver el camino solución, si lo hay, y None en otro caso\n",
    "    '''\n",
    "    if n0 == nf:\n",
    "        return [n0]\n",
    "    \n",
    "    pila = [[n0]]  \n",
    "    visitados = set([n0])\n",
    "    \n",
    "    while pila:\n",
    "        camino_actual = pila.pop()\n",
    "        nodo_actual = camino_actual[-1]\n",
    "        \n",
    "        for sucesor in sucesores(nodo_actual):\n",
    "            if sucesor == nf:\n",
    "                return camino_actual + [sucesor]\n",
    "            \n",
    "            if sucesor not in visitados:\n",
    "                visitados.add(sucesor)\n",
    "                pila.append(camino_actual + [sucesor])\n",
    "    \n",
    "    return None    "
   ]
  },
  {
   "cell_type": "code",
   "execution_count": null,
   "metadata": {},
   "outputs": [],
   "source": [
    "def amplitud(n0, nf, sucesores):\n",
    "    '''n0 -> estado inicial\n",
    "    nf -> estado final\n",
    "    sucesores -> función que permite obtener los sucesores de un nodo\n",
    "    La función debe devolver el camino solución, si lo hay, y None en otro caso\n",
    "    '''\n",
    "    if n0 == nf:\n",
    "        return [n0]\n",
    "    \n",
    "    cola = [[n0]]\n",
    "    \n",
    "    visitados = {n0}\n",
    "    \n",
    "    while cola:\n",
    "        camino_actual = cola.pop(0)\n",
    "        nuevos_caminos = expandir(camino_actual, sucesores)\n",
    "        \n",
    "        for nuevo_camino in nuevos_caminos:\n",
    "            nuevo_nodo = nuevo_camino[-1]\n",
    "            \n",
    "            if nuevo_nodo == nf:\n",
    "                return nuevo_camino\n",
    "            \n",
    "            if nuevo_nodo not in visitados:\n",
    "                visitados.add(nuevo_nodo)\n",
    "                cola.append(nuevo_camino)\n",
    "    \n",
    "    \n",
    "    return None"
   ]
  },
  {
   "cell_type": "markdown",
   "metadata": {},
   "source": [
    "Para los algoritmos informados, necesitamos definir un heurístico, tal que, dados dos nodos, actual y objetivo, devuelva la heurística entre esos dos nodos.\n",
    "  * Para ello utilizaremos la distancia euclídea.\n",
    "  * Necesitamos ampliar nuestra representación para incluir las coordenadas de cada nodo.\n",
    "  * Una posibilidad es usar otro diccionario para las coordenadas."
   ]
  },
  {
   "cell_type": "code",
   "execution_count": 20,
   "metadata": {},
   "outputs": [],
   "source": [
    "posicion = {}\n",
    "posicion['a'] = (0.0,0.0)\n",
    "posicion['b'] = (1.2, -0.5)\n",
    "posicion['c'] = (1.0, 0.8)\n",
    "posicion['d'] = (2.0, 0.9)\n",
    "posicion['e'] = (1.4, 0.3)\n",
    "posicion['f'] = (2.5, 0.3)\n",
    "posicion['g'] = (2.8, 0.5)\n",
    "posicion['h'] = (0.0, -1.0)\n",
    "\n",
    "def distancia_grafo(n1, n2):\n",
    "    x1, y1 = posicion[n1]\n",
    "    x2, y2 = posicion[n2]\n",
    "\n",
    "    distancia = ((x2 - x1) ** 2 + (y2 - y1) ** 2) ** 0.5\n",
    "    \n",
    "    return distancia\n",
    "\n",
    "def coste_grafo(camino):\n",
    "    if len(camino) < 2:\n",
    "        return 0.0\n",
    "    \n",
    "    return sum(distancia_grafo(actual, siguiente) \n",
    "               for actual, siguiente in zip(camino[:-1], camino[1:]))"
   ]
  },
  {
   "cell_type": "markdown",
   "metadata": {},
   "source": [
    "### Algoritmos informados"
   ]
  },
  {
   "cell_type": "code",
   "execution_count": null,
   "metadata": {},
   "outputs": [],
   "source": [
    "def escalada(n0, nf, sucesores, h):\n",
    "    '''n0 -> estado inicial\n",
    "    nf -> estado final\n",
    "    sucesores -> función que permite obtener los sucesores de un nodo\n",
    "    h -> función que se aplica al nodo actual y al nodo final y devuelve la heurística de el nodo actual respecto del nodo final\n",
    "    La función debe devolver el camino solución, si lo hay, y None en otro caso\n",
    "    '''\n",
    "    if n0 == nf:\n",
    "        return [n0]\n",
    "    \n",
    "    CP = [[n0]]\n",
    "    \n",
    "    while CP and CP[0][-1] != nf:\n",
    "        camino_actual = CP.pop(0)\n",
    "        E = expandir(camino_actual, sucesores)\n",
    "        \n",
    "        if not E:\n",
    "            continue\n",
    "            \n",
    "        O = sorted(E, key=lambda camino: h(camino[-1], nf))\n",
    "        \n",
    "        CP = O + CP\n",
    "    \n",
    "    if not CP:\n",
    "        return None\n",
    "    \n",
    "    return CP[0]"
   ]
  },
  {
   "cell_type": "code",
   "execution_count": 22,
   "metadata": {},
   "outputs": [],
   "source": [
    "def primero_el_mejor (n0, nf, sucesores, h):\n",
    "\t'''n0 -> estado inicial\n",
    "\tnf -> estado final\n",
    "\tsucesores -> función que permite obtener los sucesores de un nodo\n",
    "\th -> función que se aplica al nodo actual y al nodo final y devuelve la heurística de el nodo actual respecto del nodo final\n",
    "\tLa función debe devolver el camino solución, si lo hay, y None en otro caso\n",
    "\t'''\n",
    "    # TODO"
   ]
  },
  {
   "cell_type": "code",
   "execution_count": 23,
   "metadata": {},
   "outputs": [],
   "source": [
    "def poda (caminos): # si dos caminos que llegan al mismo nodo, elimina el más costoso, suponemos que están ordenados de menor a mayor coste\n",
    "\tpass\n",
    "\n",
    "def branch_and_bound (n0, nf, sucesores, g):\n",
    "\t'''n0 -> estado inicial\n",
    "\tnf -> estado final\n",
    "\tsucesores -> función que permite obtener los sucesores de un nodo\n",
    "\tg -> función que se aplica a un camino y devuelve el coste total de dicho camino\n",
    "\tLa función debe devolver el camino solución, si lo hay, y None en otro caso\n",
    "\t'''\n",
    "\tpass\n",
    "\t"
   ]
  },
  {
   "cell_type": "code",
   "execution_count": 24,
   "metadata": {},
   "outputs": [],
   "source": [
    "def a_estrella (n0, nf, sucesores, g, h):\n",
    "\t'''n0 -> estado inicial\n",
    "\tnf -> estado final\n",
    "\tsucesores -> función que permite obtener los sucesores de un nodo\n",
    "\tg -> función que se aplica a un camino y devuelve el coste total de dicho camino\n",
    "\th -> función que se aplica al nodo actual y al nodo final y devuelve la heurística de el nodo actual respecto del nodo final\n",
    "\tLa función debe devolver el camino solución, si lo hay, y None en otro caso\n",
    "\t'''\n",
    "\t# TODO"
   ]
  },
  {
   "cell_type": "markdown",
   "metadata": {},
   "source": [
    "### Búsqueda en el metro de madrid\n",
    "\n",
    "La celda siguiente construye la estructura de líneas y estaciones del metro de Madrid.\n",
    "\n",
    "La función sucesores recibe el nombre de una estación como argumento y devuelve las estaciones a las que se puede llegar en un paso."
   ]
  },
  {
   "cell_type": "code",
   "execution_count": 25,
   "metadata": {},
   "outputs": [],
   "source": [
    "# líneas de metro a 2025\n",
    "\n",
    "todas = [['Pinar de Chamartín',\n",
    "  'Bambú',\n",
    "  'Chamartín',\n",
    "  'Plaza de Castilla',\n",
    "  'Valdeacederas',\n",
    "  'Tetuán',\n",
    "  'Estrecho',\n",
    "  'Alvarado',\n",
    "  'Cuatro Caminos',\n",
    "  'Ríos Rosas',\n",
    "  'Iglesia',\n",
    "  'Bilbao',\n",
    "  'Tribunal',\n",
    "  'Gran Vía',\n",
    "  'Sol',\n",
    "  'Tirso de Molina',\n",
    "  'Antón Martín',\n",
    "  'Estación del Arte',\n",
    "  'Atocha',\n",
    "  'Menéndez Pelayo',\n",
    "  'Pacífico',\n",
    "  'Puente de Vallecas',\n",
    "  'Nueva Numancia',\n",
    "  'Portazgo',\n",
    "  'Buenos Aires',\n",
    "  'Alto del Arenal',\n",
    "  'Miguel Hernández',\n",
    "  'Sierra de Guadalupe',\n",
    "  'Villa de Vallecas',\n",
    "  'Congosto',\n",
    "  'La Gavia',\n",
    "  'Las Suertes',\n",
    "  'Valdecarros'],\n",
    " ['Las Rosas',\n",
    "  'Avenida de Guadalajara',\n",
    "  'Alsacia',\n",
    "  'La Almudena',\n",
    "  'La Elipa',\n",
    "  'Ventas',\n",
    "  'Manuel Becerra',\n",
    "  'Goya',\n",
    "  'Príncipe de Vergara',\n",
    "  'Retiro',\n",
    "  'Banco de España',\n",
    "  'Sevilla',\n",
    "  'Sol',\n",
    "  'Ópera',\n",
    "  'Santo Domingo',\n",
    "  'Noviciado',\n",
    "  'San Bernardo',\n",
    "  'Quevedo',\n",
    "  'Canal',\n",
    "  'Cuatro Caminos'],\n",
    " ['El Casar',\n",
    "  'Villaverde Alto',\n",
    "  'San Cristóbal',\n",
    "  'Villaverde Bajo-Cruce',\n",
    "  'Ciudad de los Ángeles',\n",
    "  'San Fermín-Orcasur',\n",
    "  'Hospital 12 de Octubre',\n",
    "  'Almendrales',\n",
    "  'Legazpi',\n",
    "  'Delicias',\n",
    "  'Palos de la Frontera',\n",
    "  'Embajadores',\n",
    "  'Lavapiés',\n",
    "  'Sol',\n",
    "  'Callao',\n",
    "  'Plaza de España',\n",
    "  'Ventura Rodríguez',\n",
    "  'Argüelles',\n",
    "  'Moncloa'],\n",
    " ['Argüelles',\n",
    "  'San Bernardo',\n",
    "  'Bilbao',\n",
    "  'Alonso Martínez',\n",
    "  'Colón',\n",
    "  'Serrano',\n",
    "  'Velázquez',\n",
    "  'Goya',\n",
    "  'Lista',\n",
    "  'Diego de León',\n",
    "  'Avenida de América',\n",
    "  'Prosperidad',\n",
    "  'Alfonso XIII',\n",
    "  'Avenida de La Paz',\n",
    "  'Arturo Soria',\n",
    "  'Esperanza',\n",
    "  'Canillas',\n",
    "  'Mar de Cristal',\n",
    "  'San Lorenzo',\n",
    "  'Parque de Santa María',\n",
    "  'Hortaleza',\n",
    "  'Manoteras',\n",
    "  'Pinar de Chamartín'],\n",
    " ['Alameda de Osuna',\n",
    "  'El Capricho',\n",
    "  'Canillejas',\n",
    "  'Torre Arias',\n",
    "  'Suanzes',\n",
    "  'Ciudad Lineal',\n",
    "  'Pueblo Nuevo',\n",
    "  'Quintana',\n",
    "  'El Carmen',\n",
    "  'Ventas',\n",
    "  'Diego de León',\n",
    "  'Núñez de Balboa',\n",
    "  'Rubén Darío',\n",
    "  'Alonso Martínez',\n",
    "  'Chueca',\n",
    "  'Gran Vía',\n",
    "  'Callao',\n",
    "  'Ópera',\n",
    "  'La Latina',\n",
    "  'Puerta de Toledo',\n",
    "  'Acacias',\n",
    "  'Pirámides',\n",
    "  'Marqués de Vadillo',\n",
    "  'Urgel',\n",
    "  'Oporto',\n",
    "  'Vista Alegre',\n",
    "  'Carabanchel',\n",
    "  'Eugenia de Montijo',\n",
    "  'Aluche',\n",
    "  'Empalme',\n",
    "  'Campamento',\n",
    "  'Casa de Campo'],\n",
    " ['Laguna',\n",
    "  'Carpetana',\n",
    "  'Oporto',\n",
    "  'Opañel',\n",
    "  'Plaza Elíptica',\n",
    "  'Usera',\n",
    "  'Legazpi',\n",
    "  'Arganzuela-Planetario',\n",
    "  'Méndez Álvaro',\n",
    "  'Pacífico',\n",
    "  'Conde de Casal',\n",
    "  'Sainz de Baranda',\n",
    "  'O´Donnell',\n",
    "  'Manuel Becerra',\n",
    "  'Diego de León',\n",
    "  'Avenida de América',\n",
    "  'República Argentina',\n",
    "  'Nuevos Ministerios',\n",
    "  'Cuatro Caminos',\n",
    "  'Guzmán el Bueno',\n",
    "  'Vicente Aleixandre',\n",
    "  'Ciudad Universitaria',\n",
    "  'Moncloa',\n",
    "  'Argüelles',\n",
    "  'Príncipe Pío',\n",
    "  'Puerta del Ángel',\n",
    "  'Alto de Extremadura',\n",
    "  'Lucero'],\n",
    " ['Hospital del Henares',\n",
    "  'Henares',\n",
    "  'Jarama',\n",
    "  'San Fernando',\n",
    "  'La Rambla',\n",
    "  'Coslada Central',\n",
    "  'Barrio del Puerto',\n",
    "  'Estadio Metropolitano',\n",
    "  'Las Musas',\n",
    "  'San Blas',\n",
    "  'Simancas',\n",
    "  'García Noblejas',\n",
    "  'Ascao',\n",
    "  'Pueblo Nuevo',\n",
    "  'Barrio de la Concepción',\n",
    "  'Parque de las Avenidas',\n",
    "  'Cartagena',\n",
    "  'Avenida de América',\n",
    "  'Gregorio Marañón',\n",
    "  'Alonso Cano',\n",
    "  'Canal',\n",
    "  'Islas Filipinas',\n",
    "  'Guzmán el Bueno',\n",
    "  'Francos Rodríguez',\n",
    "  'Valdezarza',\n",
    "  'Antonio Machado',\n",
    "  'Peñagrande',\n",
    "  'Avenida de la Ilustración',\n",
    "  'Lacoma',\n",
    "  'Arroyofresno',\n",
    "  'Pitis'],\n",
    " ['Nuevos Ministerios',\n",
    "  'Colombia',\n",
    "  'Pinar del Rey',\n",
    "  'Mar de Cristal',\n",
    "  'Feria de Madrid',\n",
    "  'Aeropuerto T1-T2-T3',\n",
    "  'Barajas',\n",
    "  'Aeropuerto T-4'],\n",
    " ['Paco de Lucía',\n",
    "  'Mirasierra',\n",
    "  'Herrera Oria',\n",
    "  'Barrio del Pilar',\n",
    "  'Ventilla',\n",
    "  'Plaza de Castilla',\n",
    "  'Duque de Pastrana',\n",
    "  'Pío XII',\n",
    "  'Colombia',\n",
    "  'Concha Espina',\n",
    "  'Cruz del Rayo',\n",
    "  'Avenida de América',\n",
    "  'Núñez de Balboa',\n",
    "  'Príncipe de Vergara',\n",
    "  'Ibiza',\n",
    "  'Sainz de Baranda',\n",
    "  'Estrella',\n",
    "  'Vinateros',\n",
    "  'Artilleros',\n",
    "  'Pavones',\n",
    "  'Valdebernardo',\n",
    "  'Vicálvaro',\n",
    "  'San Cipriano',\n",
    "  'Puerta de Arganda',\n",
    "  'Rivas Urbanizaciones',\n",
    "  'Rivas Futura',\n",
    "  'Rivas Vaciamadrid',\n",
    "  'La Poveda',\n",
    "  'Arganda del Rey'],\n",
    " ['Hospital Infanta Sofía',\n",
    "  'Reyes Católicos',\n",
    "  'Baunatal',\n",
    "  'Manuel de Falla',\n",
    "  'Marqués de la Valdavia',\n",
    "  'La Moraleja',\n",
    "  'La Granja',\n",
    "  'Ronda de la Comunicación',\n",
    "  'Las Tablas',\n",
    "  'Montecarmelo',\n",
    "  'Tres Olivos',\n",
    "  'Fuencarral',\n",
    "  'Begoña',\n",
    "  'Chamartín',\n",
    "  'Plaza de Castilla',\n",
    "  'Cuzco',\n",
    "  'Santiago Bernabéu',\n",
    "  'Nuevos Ministerios',\n",
    "  'Gregorio Marañón',\n",
    "  'Alonso Martínez',\n",
    "  'Tribunal',\n",
    "  'Plaza de España',\n",
    "  'Príncipe Pío',\n",
    "  'Lago',\n",
    "  'Batán',\n",
    "  'Casa de Campo',\n",
    "  'Colonia Jardín',\n",
    "  'Aviación Española',\n",
    "  'Cuatro Vientos',\n",
    "  'Joaquín Vilumbrales',\n",
    "  'Puerta del Sur'],\n",
    " ['Plaza Elíptica',\n",
    "  'Abrantes',\n",
    "  'Pan Bendito',\n",
    "  'San Francisco',\n",
    "  'Carabanchel Alto',\n",
    "  'La Peseta',\n",
    "  'La Fortuna'],\n",
    " ['Puerta del Sur',\n",
    "  'Parque de Lisboa',\n",
    "  'Alcorcón Central',\n",
    "  'Parque Oeste',\n",
    "  'Universidad Rey Juan Carlos',\n",
    "  'Móstoles Central',\n",
    "  'Pradillo',\n",
    "  'Hospital de Móstoles',\n",
    "  'Manuela Malasaña',\n",
    "  'Loranca',\n",
    "  'Hospital de Fuenlabrada',\n",
    "  'Parque Europa',\n",
    "  'Fuenlabrada Central',\n",
    "  'Parque de los Estados',\n",
    "  'Arroyo Culebro',\n",
    "  'Conservatorio',\n",
    "  'Alonso de Mendoza',\n",
    "  'Getafe Central',\n",
    "  'Juan de la Cierva',\n",
    "  'El Casar',\n",
    "  'Los Espartales',\n",
    "  'El Bercial',\n",
    "  'El Carrascal',\n",
    "  'Julián Besteiro',\n",
    "  'Casa del Reloj',\n",
    "  'Hospital Severo Ochoa',\n",
    "  'Leganés Central',\n",
    "  'San Nicasio'],\n",
    " ['Ópera', 'Príncipe Pío'],\n",
    " ['Pinar de Chamartín',\n",
    "  'Fuente de la Mora',\n",
    "  'Virgen del Cortijo',\n",
    "  'Antonio Saura',\n",
    "  'Álvarez de Villaamil',\n",
    "  'Blasco Ibáñez',\n",
    "  'María Tudor',\n",
    "  'Palas de Rey',\n",
    "  'Las Tablas'],\n",
    " ['Colonia Jardín',\n",
    "  'Prado de la Vega',\n",
    "  'Colonia de los Ángeles',\n",
    "  'Prado del Rey',\n",
    "  'Somosaguas Sur',\n",
    "  'Somosaguas Centro',\n",
    "  'Pozuelo Oeste',\n",
    "  'Bélgica',\n",
    "  'Dos Castillas',\n",
    "  'Campus de Somosaguas',\n",
    "  'Avenida de Europa',\n",
    "  'Berna',\n",
    "  'Estación de Aravaca'],\n",
    " ['Colonia Jardín',\n",
    "  'Ciudad de la Imagen',\n",
    "  'José Isbert',\n",
    "  'Ciudad del Cine',\n",
    "  'Cocheras',\n",
    "  'Retamares',\n",
    "  'Montepríncipe',\n",
    "  'Ventorro del Cano',\n",
    "  'Prado del Espino',\n",
    "  'Cantabria',\n",
    "  'Ferial de Boadilla',\n",
    "  'Boadilla Centro',\n",
    "  'Nuevo Mundo',\n",
    "  'Siglo XXI',\n",
    "  'Infante Don Luís',\n",
    "  'Puerta de Boadilla']]"
   ]
  },
  {
   "cell_type": "code",
   "execution_count": 26,
   "metadata": {
    "tags": []
   },
   "outputs": [],
   "source": [
    "# para quitar acentos\n",
    "a,b = 'áéíóúü','aeiouu'\n",
    "trans = str.maketrans(a,b)\n",
    "\n",
    "def buildModel (): # construye el grafo a partir de las listas de líneas\n",
    "\t# para cada estación busca: la anterior, la siguiente, los transbordos\n",
    "\tlista = ['#']\n",
    "\tfor linea in todas:\n",
    "\t\tlista += linea\n",
    "\t\tlista += '#' # separa líneas entre sí\n",
    "\n",
    "\tmodel = {} # modelo que almacenará todos los sucesores de cada estación\n",
    "\tfor e in lista: # para cada estación\n",
    "\t\tif e == '#':\n",
    "\t\t\tcontinue\n",
    "\t\tsucesores = []\n",
    "\n",
    "\t\tfor i in range(len(lista)): # para cada aparición de la estación\n",
    "\t\t\tif e == lista[i]:\n",
    "\t\t\t\tif lista[i-1] != '#':\n",
    "\t\t\t\t\tsucesores.append(lista[i-1])\n",
    "\t\t\t\tif lista[i+1] != '#':\n",
    "\t\t\t\t\tsucesores.append(lista[i+1])\n",
    "\n",
    "\t\t# elimina acentos y mayúsculas de e\n",
    "\t\te = e.lower()\n",
    "\t\te = e.translate(trans)\n",
    "\n",
    "\t\tmodel[e] = sucesores\n",
    "\treturn model\n",
    "\n",
    "model = buildModel()\n",
    "\n",
    "def sucesores_metro (estado):\n",
    "\t# elimina acentos y mayúsculas de estado, introduce algo de cómputo en cada llamada a sucesores\n",
    "\testado = estado.lower()\n",
    "\testado = estado.translate(trans)\n",
    "\tsuc = model[estado]\n",
    "\treturn list(set(suc)) # borra duplicados (puede haberlos en casos raros, como por ejemplo en 'Avenida de América')"
   ]
  },
  {
   "cell_type": "code",
   "execution_count": 27,
   "metadata": {},
   "outputs": [
    {
     "data": {
      "text/plain": [
       "['Iglesia', 'Cuatro Caminos']"
      ]
     },
     "execution_count": 27,
     "metadata": {},
     "output_type": "execute_result"
    }
   ],
   "source": [
    "sucesores_metro('rios rosas')"
   ]
  },
  {
   "cell_type": "code",
   "execution_count": 28,
   "metadata": {},
   "outputs": [
    {
     "ename": "IndentationError",
     "evalue": "expected an indented block after function definition on line 1 (1622999458.py, line 4)",
     "output_type": "error",
     "traceback": [
      "\u001b[1;36m  Cell \u001b[1;32mIn[28], line 4\u001b[1;36m\u001b[0m\n\u001b[1;33m    def heuristico_metro (nodo, objetivo): # como no tenemos coordenadas, un heurístico posible es sumar puntos si el nodo y el objetivo no están en la misma línea\u001b[0m\n\u001b[1;37m    ^\u001b[0m\n\u001b[1;31mIndentationError\u001b[0m\u001b[1;31m:\u001b[0m expected an indented block after function definition on line 1\n"
     ]
    }
   ],
   "source": [
    "def coste_metro (camino):\n",
    "\t# TODO\n",
    "\n",
    "def heuristico_metro (nodo, objetivo): # como no tenemos coordenadas, un heurístico posible es sumar puntos si el nodo y el objetivo no están en la misma línea\n",
    "\t# TODO\n",
    "\n",
    "def printres (camino):\n",
    "\tprint('')\n",
    "\tif not camino:\n",
    "\t\tprint('No hay solución')\n",
    "\t\treturn\n",
    "\tfor n in camino:\n",
    "\t\tprint(n)\n",
    "\tprint(coste(camino))\n",
    "\n",
    "origen = 'Pirámides'\n",
    "destino = 'Ríos Rosas'\n",
    "\n",
    "sol = a_estrella(origen, destino, sucesores_metro, coste_metro, heuristico_metro)\n",
    "printres(sol)\n",
    "\n",
    "''' debe dar\n",
    "Pirámides\n",
    "Acacias\n",
    "Puerta de Toledo\n",
    "La Latina\n",
    "Ópera\n",
    "Callao\n",
    "Gran Vía\n",
    "Tribunal\n",
    "Bilbao\n",
    "Iglesia\n",
    "Ríos Rosas\n",
    "Coste total: 14\n",
    "Transbordos: 1\n",
    "'''"
   ]
  },
  {
   "cell_type": "markdown",
   "metadata": {
    "tags": []
   },
   "source": [
    "### Problema de las vasijas\n",
    "\n",
    " * estado: [v1, v2] contenido de las vasijas 0 y 1\n",
    " * operaciones validas\n",
    "   * llenar vasija(i), vaciar vasija(i), volcar(i, j)\n",
    "\n",
    "Calcular soluciones para el menor número de pasos y para el menor gasto de agua"
   ]
  },
  {
   "cell_type": "code",
   "execution_count": 59,
   "metadata": {
    "collapsed": true,
    "jupyter": {
     "outputs_hidden": true
    },
    "tags": []
   },
   "outputs": [
    {
     "name": "stdout",
     "output_type": "stream",
     "text": [
      "Los menores pasos para pasar de (0, 0) a (2, 3) es de 2 pasos, siguiendo este camino: [(0, 0), (0, 5), (2, 3)]\n"
     ]
    }
   ],
   "source": [
    "capacidad = [2, 5] # capacidad de las vasijas 0 y 1\n",
    "\n",
    "# estados: (2,0)\n",
    "\n",
    "\n",
    "def sucesores_vasijas(estado):\n",
    "    v1, v2 = estado\n",
    "    c1, c2 = capacidad\n",
    "    sucesores = set()\n",
    "\n",
    "    # Llenar la vasija 1\n",
    "    if v1 < c1:\n",
    "        sucesores.add((c1, v2))\n",
    "\n",
    "    # Llenar la vasija 2\n",
    "    if v2 < c2:\n",
    "        sucesores.add((v1, c2))\n",
    "\n",
    "    # Vaciar la vasija 1\n",
    "    if v1 > 0:\n",
    "        sucesores.add((0, v2))\n",
    "\n",
    "    # Vaciar la vasija 2\n",
    "    if v2 > 0:\n",
    "        sucesores.add((v1, 0))\n",
    "\n",
    "    # Volcar de la vasija 1 a la 2\n",
    "    if v1 > 0 and v2 < c2:\n",
    "        cantidad = min(v1, c2 - v2)\n",
    "        sucesores.add((v1 - cantidad, v2 + cantidad))\n",
    "\n",
    "    # Volcar de la vasija 2 a la 1\n",
    "    if v2 > 0 and v1 < c1:\n",
    "        cantidad = min(v2, c1 - v1)\n",
    "        sucesores.add((v1 + cantidad, v2 - cantidad))\n",
    "\n",
    "    return list(sucesores)\n",
    "\n",
    "\n",
    "def gastoAgua(c): # calcula el coste como el gasto de agua de un camino\n",
    "    if not c or len(c) < 2:\n",
    "        return 0\n",
    "\n",
    "    coste_total = 0\n",
    "    \n",
    "    for i in range(len(c) - 1):\n",
    "        v1_anterior, v2_anterior = c[i]\n",
    "        v1_actual, v2_actual = c[i+1]\n",
    "\n",
    "        # Llenado de la vasija 1\n",
    "        if v1_actual > v1_anterior and v2_actual == v2_anterior:\n",
    "            coste_total += (v1_actual - v1_anterior)\n",
    "        \n",
    "        # Llenado de la vasija 2\n",
    "        elif v2_actual > v2_anterior and v1_actual == v1_anterior:\n",
    "            coste_total += (v2_actual - v2_anterior)\n",
    "            \n",
    "    return coste_total\n",
    " \n",
    " \n",
    "def heuristico_vasijas(c):\n",
    "    v1_actual, v2_actual = c[0]\n",
    "    v1_objetivo, v2_objetivo = c[1]\n",
    "    return abs(v1_actual - v1_objetivo) + abs(v2_actual - v2_objetivo)\n",
    "\n",
    "\n",
    "estado_inicial = (0,0)\n",
    "estado_final = (2, 3)\n",
    "camino_menos_pasos = amplitud(estado_inicial, estado_final, sucesores_vasijas)\n",
    "\n",
    "print(\n",
    "    f'Los menores pasos para pasar de {estado_inicial} a {estado_final} es de ' \n",
    "    f'{len(camino_menos_pasos) - 1} pasos, siguiendo este camino: {camino_menos_pasos}'\n",
    "    )\n",
    "\n",
    "\n",
    "# Faltaría únicamente implementar la función de a* para \n",
    "# calcular el camino de menor gasto del agua \n",
    "\n",
    "# camino_menos_agua = a_estrella(\n",
    "#     estado_inicial, \n",
    "#     estado_final, \n",
    "#     sucesores_vasijas, \n",
    "#     gastoAgua, \n",
    "#     heuristico_vasijas\n",
    "# )\n",
    "\n",
    "# print(\n",
    "#     f'El número de pasos para pasar de {estado_inicial} a {estado_final} con el menor gasto de ' \n",
    "#     f'agua es de {len(camino_menos_agua) - 1} pasos, siguiendo este camino: {camino_menos_agua}'\n",
    "#     )"
   ]
  },
  {
   "cell_type": "markdown",
   "metadata": {},
   "source": [
    "### 8-puzzle (opcional)\n",
    "\n",
    "![SNOWFALL](https://www.researchgate.net/profile/Ruo-Ando/publication/347300656/figure/fig1/AS:969204928901121@1608087870493/Initial-state-and-goal-state-of-8-puzzle_W640.jpg) \n",
    "\n",
    "  * Los estados se representarán como listas de listas.\n",
    "  * La función sucesores, dado un estado, deberá devolver los estados a los que se puede pasar moviendo fichas adyacentes a la casilla vacía.\n",
    "  * Como coste usar el menor número de pasos.\n",
    "  * Idea para heurístico: la distancia de la posición actual de cada pieza a la posición que debe ocupar en el objetivo."
   ]
  },
  {
   "cell_type": "code",
   "execution_count": null,
   "metadata": {},
   "outputs": [],
   "source": [
    "objetivo = [[1, 2, 3], \n",
    "            [4, 5, 6], \n",
    "            [7, 8, 0]] # el 0 representa la casilla vacía\n",
    "\n",
    "inicio = [[1, 0, 3], \n",
    "          [4, 2, 5], \n",
    "          [7, 8, 6]] # 3 pasos\n",
    "#inicio = [[4, 1, 3], [7, 2, 5], [0, 8, 6]] # 6 pasos\n",
    "#inicio = [[3, 1, 6], [2, 5, 4], [7, 8, 0]] # 14 pasos\n",
    "#inicio = [[0, 4, 1], [3, 7, 2], [5, 8, 6]] # 18 pasos\n",
    "#inicio = [[0, 2, 5], [3, 8, 6], [4, 1, 7]] # 22 pasos\n",
    "#inicio = [[0, 3, 7], [1, 8, 5], [6, 4, 2]] # 22 pasos"
   ]
  },
  {
   "cell_type": "code",
   "execution_count": 1,
   "metadata": {},
   "outputs": [],
   "source": [
    "def sucesores_puzzle(estado):\n",
    "    pass\n",
    "                \n",
    "def heuristico_puzzle (e0, ef):\n",
    "    pass"
   ]
  },
  {
   "cell_type": "markdown",
   "metadata": {},
   "source": [
    "### Actividad opcional\n",
    "\n",
    "Desarrollar una clase \"Busqueda\" que unifique dentro todos los algoritmos que hemos implementado en funciones independientes.\n",
    "\n",
    "Para ello se especificarán en el constructor (__init__) las funciones dependientes del problema, es decir, sucesores, heurístico y coste, y de este modo no habrá que pasarlos como argumento a los algoritmos, sino sólo inicio y objetivo, quedando el código mucho más limpio.\n",
    "\n",
    "Por ejemplo, el uso de esta clase sería algo así:\n",
    "\n",
    "```python\n",
    "b = busqueda(sucesores_metro, heuristico_metro, coste_metro)\n",
    "b.aestrella('Pirámides', 'Conde de Casal')\n",
    "\n",
    "```"
   ]
  }
 ],
 "metadata": {
  "kernelspec": {
   "display_name": "Python 3",
   "language": "python",
   "name": "python3"
  },
  "language_info": {
   "codemirror_mode": {
    "name": "ipython",
    "version": 3
   },
   "file_extension": ".py",
   "mimetype": "text/x-python",
   "name": "python",
   "nbconvert_exporter": "python",
   "pygments_lexer": "ipython3",
   "version": "3.12.6"
  },
  "toc": {
   "base_numbering": 1,
   "nav_menu": {},
   "number_sections": true,
   "sideBar": true,
   "skip_h1_title": false,
   "title_cell": "Table of Contents",
   "title_sidebar": "Contents",
   "toc_cell": false,
   "toc_position": {},
   "toc_section_display": true,
   "toc_window_display": false
  }
 },
 "nbformat": 4,
 "nbformat_minor": 4
}
